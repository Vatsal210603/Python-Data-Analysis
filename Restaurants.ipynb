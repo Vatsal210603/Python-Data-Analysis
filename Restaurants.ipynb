{
 "cells": [
  {
   "cell_type": "code",
   "execution_count": 20,
   "id": "b097ac63",
   "metadata": {},
   "outputs": [],
   "source": [
    "import pandas as pd\n",
    "import numpy as np\n",
    "import matplotlib.pyplot as plt\n",
    "import seaborn as sns\n"
   ]
  },
  {
   "cell_type": "code",
   "execution_count": 21,
   "id": "79879aea",
   "metadata": {},
   "outputs": [],
   "source": [
    "data=pd.read_csv('Restaurants.csv')"
   ]
  },
  {
   "cell_type": "code",
   "execution_count": 22,
   "id": "4e5803e3",
   "metadata": {},
   "outputs": [
    {
     "data": {
      "text/html": [
       "<div>\n",
       "<style scoped>\n",
       "    .dataframe tbody tr th:only-of-type {\n",
       "        vertical-align: middle;\n",
       "    }\n",
       "\n",
       "    .dataframe tbody tr th {\n",
       "        vertical-align: top;\n",
       "    }\n",
       "\n",
       "    .dataframe thead th {\n",
       "        text-align: right;\n",
       "    }\n",
       "</style>\n",
       "<table border=\"1\" class=\"dataframe\">\n",
       "  <thead>\n",
       "    <tr style=\"text-align: right;\">\n",
       "      <th></th>\n",
       "      <th>Name</th>\n",
       "      <th>Location</th>\n",
       "      <th>Locality</th>\n",
       "      <th>City</th>\n",
       "      <th>Cuisine</th>\n",
       "      <th>Rating</th>\n",
       "      <th>Votes</th>\n",
       "      <th>Average_Bill</th>\n",
       "    </tr>\n",
       "  </thead>\n",
       "  <tbody>\n",
       "    <tr>\n",
       "      <th>0</th>\n",
       "      <td>Local</td>\n",
       "      <td>Scindia House,Connaught Place, Central Delhi</td>\n",
       "      <td>Central Delhi</td>\n",
       "      <td>Delhi</td>\n",
       "      <td>North Indian,  Finger Food,  Continental</td>\n",
       "      <td>4.1</td>\n",
       "      <td>2415</td>\n",
       "      <td>2000</td>\n",
       "    </tr>\n",
       "    <tr>\n",
       "      <th>1</th>\n",
       "      <td>The G.T. ROAD</td>\n",
       "      <td>M-Block,Connaught Place, Central Delhi</td>\n",
       "      <td>Central Delhi</td>\n",
       "      <td>Delhi</td>\n",
       "      <td>North Indian</td>\n",
       "      <td>4.3</td>\n",
       "      <td>2363</td>\n",
       "      <td>1500</td>\n",
       "    </tr>\n",
       "    <tr>\n",
       "      <th>2</th>\n",
       "      <td>Tamasha</td>\n",
       "      <td>Connaught Place, Central Delhi</td>\n",
       "      <td>Central Delhi</td>\n",
       "      <td>Delhi</td>\n",
       "      <td>Finger Food,  North Indian,  Italian,  Contine...</td>\n",
       "      <td>4.2</td>\n",
       "      <td>5016</td>\n",
       "      <td>2000</td>\n",
       "    </tr>\n",
       "    <tr>\n",
       "      <th>3</th>\n",
       "      <td>The Junkyard Cafe</td>\n",
       "      <td>Connaught Place, Central Delhi</td>\n",
       "      <td>Central Delhi</td>\n",
       "      <td>Delhi</td>\n",
       "      <td>North Indian,  Mediterranean,  Asian,  Italian...</td>\n",
       "      <td>4.2</td>\n",
       "      <td>2821</td>\n",
       "      <td>1800</td>\n",
       "    </tr>\n",
       "    <tr>\n",
       "      <th>4</th>\n",
       "      <td>Chili's American Grill and Bar</td>\n",
       "      <td>M-Block,Connaught Place, Central Delhi</td>\n",
       "      <td>Central Delhi</td>\n",
       "      <td>Delhi</td>\n",
       "      <td>Mexican,  American,  Italian</td>\n",
       "      <td>4.4</td>\n",
       "      <td>1094</td>\n",
       "      <td>2000</td>\n",
       "    </tr>\n",
       "  </tbody>\n",
       "</table>\n",
       "</div>"
      ],
      "text/plain": [
       "                             Name  \\\n",
       "0                           Local   \n",
       "1                   The G.T. ROAD   \n",
       "2                         Tamasha   \n",
       "3               The Junkyard Cafe   \n",
       "4  Chili's American Grill and Bar   \n",
       "\n",
       "                                       Location        Locality   City  \\\n",
       "0  Scindia House,Connaught Place, Central Delhi   Central Delhi  Delhi   \n",
       "1        M-Block,Connaught Place, Central Delhi   Central Delhi  Delhi   \n",
       "2                Connaught Place, Central Delhi   Central Delhi  Delhi   \n",
       "3                Connaught Place, Central Delhi   Central Delhi  Delhi   \n",
       "4        M-Block,Connaught Place, Central Delhi   Central Delhi  Delhi   \n",
       "\n",
       "                                             Cuisine  Rating  Votes  \\\n",
       "0           North Indian,  Finger Food,  Continental     4.1   2415   \n",
       "1                                       North Indian     4.3   2363   \n",
       "2  Finger Food,  North Indian,  Italian,  Contine...     4.2   5016   \n",
       "3  North Indian,  Mediterranean,  Asian,  Italian...     4.2   2821   \n",
       "4                       Mexican,  American,  Italian     4.4   1094   \n",
       "\n",
       "   Average_Bill  \n",
       "0          2000  \n",
       "1          1500  \n",
       "2          2000  \n",
       "3          1800  \n",
       "4          2000  "
      ]
     },
     "execution_count": 22,
     "metadata": {},
     "output_type": "execute_result"
    }
   ],
   "source": [
    "data.head()"
   ]
  },
  {
   "cell_type": "code",
   "execution_count": 23,
   "id": "df6a66c5",
   "metadata": {},
   "outputs": [
    {
     "data": {
      "text/plain": [
       "(6593, 8)"
      ]
     },
     "execution_count": 23,
     "metadata": {},
     "output_type": "execute_result"
    }
   ],
   "source": [
    "data.shape"
   ]
  },
  {
   "cell_type": "code",
   "execution_count": 24,
   "id": "9ae79170",
   "metadata": {},
   "outputs": [
    {
     "name": "stdout",
     "output_type": "stream",
     "text": [
      "<class 'pandas.core.frame.DataFrame'>\n",
      "RangeIndex: 6593 entries, 0 to 6592\n",
      "Data columns (total 8 columns):\n",
      " #   Column        Non-Null Count  Dtype  \n",
      "---  ------        --------------  -----  \n",
      " 0   Name          6593 non-null   object \n",
      " 1   Location      6593 non-null   object \n",
      " 2   Locality      6593 non-null   object \n",
      " 3   City          6593 non-null   object \n",
      " 4   Cuisine       6593 non-null   object \n",
      " 5   Rating        6593 non-null   float64\n",
      " 6   Votes         6593 non-null   int64  \n",
      " 7   Average_Bill  6593 non-null   int64  \n",
      "dtypes: float64(1), int64(2), object(5)\n",
      "memory usage: 412.2+ KB\n"
     ]
    }
   ],
   "source": [
    "data.info()"
   ]
  },
  {
   "cell_type": "code",
   "execution_count": 25,
   "id": "9e791675",
   "metadata": {},
   "outputs": [
    {
     "data": {
      "text/html": [
       "<div>\n",
       "<style scoped>\n",
       "    .dataframe tbody tr th:only-of-type {\n",
       "        vertical-align: middle;\n",
       "    }\n",
       "\n",
       "    .dataframe tbody tr th {\n",
       "        vertical-align: top;\n",
       "    }\n",
       "\n",
       "    .dataframe thead th {\n",
       "        text-align: right;\n",
       "    }\n",
       "</style>\n",
       "<table border=\"1\" class=\"dataframe\">\n",
       "  <thead>\n",
       "    <tr style=\"text-align: right;\">\n",
       "      <th></th>\n",
       "      <th>Rating</th>\n",
       "      <th>Votes</th>\n",
       "      <th>Average_Bill</th>\n",
       "    </tr>\n",
       "  </thead>\n",
       "  <tbody>\n",
       "    <tr>\n",
       "      <th>count</th>\n",
       "      <td>6593.000000</td>\n",
       "      <td>6593.000000</td>\n",
       "      <td>6593.000000</td>\n",
       "    </tr>\n",
       "    <tr>\n",
       "      <th>mean</th>\n",
       "      <td>4.088200</td>\n",
       "      <td>119.420143</td>\n",
       "      <td>1102.798271</td>\n",
       "    </tr>\n",
       "    <tr>\n",
       "      <th>std</th>\n",
       "      <td>0.670031</td>\n",
       "      <td>261.849704</td>\n",
       "      <td>716.935212</td>\n",
       "    </tr>\n",
       "    <tr>\n",
       "      <th>min</th>\n",
       "      <td>1.000000</td>\n",
       "      <td>1.000000</td>\n",
       "      <td>100.000000</td>\n",
       "    </tr>\n",
       "    <tr>\n",
       "      <th>25%</th>\n",
       "      <td>3.900000</td>\n",
       "      <td>6.000000</td>\n",
       "      <td>500.000000</td>\n",
       "    </tr>\n",
       "    <tr>\n",
       "      <th>50%</th>\n",
       "      <td>4.200000</td>\n",
       "      <td>31.000000</td>\n",
       "      <td>900.000000</td>\n",
       "    </tr>\n",
       "    <tr>\n",
       "      <th>75%</th>\n",
       "      <td>4.400000</td>\n",
       "      <td>115.000000</td>\n",
       "      <td>1500.000000</td>\n",
       "    </tr>\n",
       "    <tr>\n",
       "      <th>max</th>\n",
       "      <td>5.000000</td>\n",
       "      <td>5016.000000</td>\n",
       "      <td>8000.000000</td>\n",
       "    </tr>\n",
       "  </tbody>\n",
       "</table>\n",
       "</div>"
      ],
      "text/plain": [
       "            Rating        Votes  Average_Bill\n",
       "count  6593.000000  6593.000000   6593.000000\n",
       "mean      4.088200   119.420143   1102.798271\n",
       "std       0.670031   261.849704    716.935212\n",
       "min       1.000000     1.000000    100.000000\n",
       "25%       3.900000     6.000000    500.000000\n",
       "50%       4.200000    31.000000    900.000000\n",
       "75%       4.400000   115.000000   1500.000000\n",
       "max       5.000000  5016.000000   8000.000000"
      ]
     },
     "execution_count": 25,
     "metadata": {},
     "output_type": "execute_result"
    }
   ],
   "source": [
    "data.describe()"
   ]
  },
  {
   "cell_type": "code",
   "execution_count": 26,
   "id": "205acec2",
   "metadata": {},
   "outputs": [
    {
     "data": {
      "text/plain": [
       "734"
      ]
     },
     "execution_count": 26,
     "metadata": {},
     "output_type": "execute_result"
    }
   ],
   "source": [
    "data[data['City'].str.contains('Delhi')]['Location'].count()"
   ]
  },
  {
   "cell_type": "code",
   "execution_count": 27,
   "id": "6ec67f75",
   "metadata": {},
   "outputs": [
    {
     "data": {
      "text/plain": [
       "City\n",
       "Gurgaon       4.308696\n",
       "Agra          4.238667\n",
       "Ahmedabad     4.202899\n",
       "Delhi         4.176567\n",
       "Goa           4.153333\n",
       "Chandigarh    4.137500\n",
       "Ghaziabad     4.086000\n",
       "Hyderabad     4.040917\n",
       "Bangalore     4.029931\n",
       "Chennai       4.025258\n",
       "Name: Rating, dtype: float64"
      ]
     },
     "execution_count": 27,
     "metadata": {},
     "output_type": "execute_result"
    }
   ],
   "source": [
    "data.groupby('City')['Rating'].mean().head(10).sort_values(ascending=False)"
   ]
  },
  {
   "cell_type": "code",
   "execution_count": 28,
   "id": "83b493c0",
   "metadata": {},
   "outputs": [],
   "source": [
    "def Rating_Type(Rating):\n",
    "    if Rating<3.0:\n",
    "        return \"Poor Rating\"\n",
    "    if Rating<4.0:\n",
    "        return \"Fair Rating\"\n",
    "    if Rating<4.5:\n",
    "        return \"Good Rating\"\n",
    "    else:\n",
    "        return \"Excellent Rating\""
   ]
  },
  {
   "cell_type": "code",
   "execution_count": 29,
   "id": "9b7e482f",
   "metadata": {},
   "outputs": [],
   "source": [
    "data['Rating_Description']=data['Rating'].apply(Rating_Type)"
   ]
  },
  {
   "cell_type": "code",
   "execution_count": 30,
   "id": "4cbbc47c",
   "metadata": {},
   "outputs": [
    {
     "data": {
      "text/html": [
       "<div>\n",
       "<style scoped>\n",
       "    .dataframe tbody tr th:only-of-type {\n",
       "        vertical-align: middle;\n",
       "    }\n",
       "\n",
       "    .dataframe tbody tr th {\n",
       "        vertical-align: top;\n",
       "    }\n",
       "\n",
       "    .dataframe thead th {\n",
       "        text-align: right;\n",
       "    }\n",
       "</style>\n",
       "<table border=\"1\" class=\"dataframe\">\n",
       "  <thead>\n",
       "    <tr style=\"text-align: right;\">\n",
       "      <th></th>\n",
       "      <th>Name</th>\n",
       "      <th>Location</th>\n",
       "      <th>Locality</th>\n",
       "      <th>City</th>\n",
       "      <th>Cuisine</th>\n",
       "      <th>Rating</th>\n",
       "      <th>Votes</th>\n",
       "      <th>Average_Bill</th>\n",
       "      <th>Rating_Description</th>\n",
       "    </tr>\n",
       "  </thead>\n",
       "  <tbody>\n",
       "    <tr>\n",
       "      <th>0</th>\n",
       "      <td>Local</td>\n",
       "      <td>Scindia House,Connaught Place, Central Delhi</td>\n",
       "      <td>Central Delhi</td>\n",
       "      <td>Delhi</td>\n",
       "      <td>North Indian,  Finger Food,  Continental</td>\n",
       "      <td>4.1</td>\n",
       "      <td>2415</td>\n",
       "      <td>2000</td>\n",
       "      <td>Good Rating</td>\n",
       "    </tr>\n",
       "    <tr>\n",
       "      <th>1</th>\n",
       "      <td>The G.T. ROAD</td>\n",
       "      <td>M-Block,Connaught Place, Central Delhi</td>\n",
       "      <td>Central Delhi</td>\n",
       "      <td>Delhi</td>\n",
       "      <td>North Indian</td>\n",
       "      <td>4.3</td>\n",
       "      <td>2363</td>\n",
       "      <td>1500</td>\n",
       "      <td>Good Rating</td>\n",
       "    </tr>\n",
       "    <tr>\n",
       "      <th>2</th>\n",
       "      <td>Tamasha</td>\n",
       "      <td>Connaught Place, Central Delhi</td>\n",
       "      <td>Central Delhi</td>\n",
       "      <td>Delhi</td>\n",
       "      <td>Finger Food,  North Indian,  Italian,  Contine...</td>\n",
       "      <td>4.2</td>\n",
       "      <td>5016</td>\n",
       "      <td>2000</td>\n",
       "      <td>Good Rating</td>\n",
       "    </tr>\n",
       "    <tr>\n",
       "      <th>3</th>\n",
       "      <td>The Junkyard Cafe</td>\n",
       "      <td>Connaught Place, Central Delhi</td>\n",
       "      <td>Central Delhi</td>\n",
       "      <td>Delhi</td>\n",
       "      <td>North Indian,  Mediterranean,  Asian,  Italian...</td>\n",
       "      <td>4.2</td>\n",
       "      <td>2821</td>\n",
       "      <td>1800</td>\n",
       "      <td>Good Rating</td>\n",
       "    </tr>\n",
       "    <tr>\n",
       "      <th>4</th>\n",
       "      <td>Chili's American Grill and Bar</td>\n",
       "      <td>M-Block,Connaught Place, Central Delhi</td>\n",
       "      <td>Central Delhi</td>\n",
       "      <td>Delhi</td>\n",
       "      <td>Mexican,  American,  Italian</td>\n",
       "      <td>4.4</td>\n",
       "      <td>1094</td>\n",
       "      <td>2000</td>\n",
       "      <td>Good Rating</td>\n",
       "    </tr>\n",
       "  </tbody>\n",
       "</table>\n",
       "</div>"
      ],
      "text/plain": [
       "                             Name  \\\n",
       "0                           Local   \n",
       "1                   The G.T. ROAD   \n",
       "2                         Tamasha   \n",
       "3               The Junkyard Cafe   \n",
       "4  Chili's American Grill and Bar   \n",
       "\n",
       "                                       Location        Locality   City  \\\n",
       "0  Scindia House,Connaught Place, Central Delhi   Central Delhi  Delhi   \n",
       "1        M-Block,Connaught Place, Central Delhi   Central Delhi  Delhi   \n",
       "2                Connaught Place, Central Delhi   Central Delhi  Delhi   \n",
       "3                Connaught Place, Central Delhi   Central Delhi  Delhi   \n",
       "4        M-Block,Connaught Place, Central Delhi   Central Delhi  Delhi   \n",
       "\n",
       "                                             Cuisine  Rating  Votes  \\\n",
       "0           North Indian,  Finger Food,  Continental     4.1   2415   \n",
       "1                                       North Indian     4.3   2363   \n",
       "2  Finger Food,  North Indian,  Italian,  Contine...     4.2   5016   \n",
       "3  North Indian,  Mediterranean,  Asian,  Italian...     4.2   2821   \n",
       "4                       Mexican,  American,  Italian     4.4   1094   \n",
       "\n",
       "   Average_Bill Rating_Description  \n",
       "0          2000        Good Rating  \n",
       "1          1500        Good Rating  \n",
       "2          2000        Good Rating  \n",
       "3          1800        Good Rating  \n",
       "4          2000        Good Rating  "
      ]
     },
     "execution_count": 30,
     "metadata": {},
     "output_type": "execute_result"
    }
   ],
   "source": [
    "data.head()"
   ]
  },
  {
   "cell_type": "code",
   "execution_count": 31,
   "id": "fbf225f4",
   "metadata": {},
   "outputs": [],
   "source": [
    "data1=data[data['City'].str.contains('Bangalore')]['Rating_Description'].value_counts()\n"
   ]
  },
  {
   "cell_type": "code",
   "execution_count": 32,
   "id": "38c2fdd6",
   "metadata": {},
   "outputs": [
    {
     "data": {
      "text/plain": [
       "Good Rating         452\n",
       "Excellent Rating    274\n",
       "Fair Rating         221\n",
       "Poor Rating          72\n",
       "Name: Rating_Description, dtype: int64"
      ]
     },
     "execution_count": 32,
     "metadata": {},
     "output_type": "execute_result"
    }
   ],
   "source": [
    "data1"
   ]
  },
  {
   "cell_type": "code",
   "execution_count": 33,
   "id": "21555d21",
   "metadata": {},
   "outputs": [
    {
     "data": {
      "text/plain": [
       "<function matplotlib.pyplot.show(close=None, block=None)>"
      ]
     },
     "execution_count": 33,
     "metadata": {},
     "output_type": "execute_result"
    },
    {
     "data": {
      "image/png": "[encoded data removed]",
      "text/plain": [
       "<Figure size 432x288 with 1 Axes>"
      ]
     },
     "metadata": {},
     "output_type": "display_data"
    }
   ],
   "source": [
    "my_labels=['Good Rating','Excellent Rating','Fair Rating','Poor Rating']\n",
    "Values=[452,274,221,72]\n",
    "plt.pie(Values,labels=my_labels,startangle=0,shadow=True,colors=[\"Green\",\"Red\",\"Yellow\",\"Pink\"])\n",
    "plt.show"
   ]
  },
  {
   "cell_type": "code",
   "execution_count": 34,
   "id": "9567f62d",
   "metadata": {},
   "outputs": [],
   "source": [
    "list1=[]\n",
    "for value in data['Cuisine']:\n",
    "    list1.append(value.split(','))"
   ]
  },
  {
   "cell_type": "code",
   "execution_count": 35,
   "id": "1f10f472",
   "metadata": {},
   "outputs": [],
   "source": [
    "data['temp']=list1"
   ]
  },
  {
   "cell_type": "code",
   "execution_count": 36,
   "id": "337b6d3b",
   "metadata": {},
   "outputs": [
    {
     "name": "stdout",
     "output_type": "stream",
     "text": [
      "Enter Cuisine you want to count : North Indian\n",
      "Total Count is 2228\n"
     ]
    }
   ],
   "source": [
    "cuisine=input(\"Enter Cuisine you want to count : \").title()\n",
    "count=0\n",
    "for value in data['temp']:\n",
    "    if cuisine in value:\n",
    "        count=count+1\n",
    "print(\"Total Count is\",count)"
   ]
  },
  {
   "cell_type": "code",
   "execution_count": 41,
   "id": "6bc8ff54",
   "metadata": {},
   "outputs": [],
   "source": [
    "data2=data[data['City']=='Hyderabad'][['Locality','Average_Bill']]"
   ]
  },
  {
   "cell_type": "code",
   "execution_count": 42,
   "id": "b7ef4427",
   "metadata": {},
   "outputs": [
    {
     "data": {
      "text/html": [
       "<div>\n",
       "<style scoped>\n",
       "    .dataframe tbody tr th:only-of-type {\n",
       "        vertical-align: middle;\n",
       "    }\n",
       "\n",
       "    .dataframe tbody tr th {\n",
       "        vertical-align: top;\n",
       "    }\n",
       "\n",
       "    .dataframe thead th {\n",
       "        text-align: right;\n",
       "    }\n",
       "</style>\n",
       "<table border=\"1\" class=\"dataframe\">\n",
       "  <thead>\n",
       "    <tr style=\"text-align: right;\">\n",
       "      <th></th>\n",
       "      <th>Locality</th>\n",
       "      <th>Average_Bill</th>\n",
       "    </tr>\n",
       "  </thead>\n",
       "  <tbody>\n",
       "    <tr>\n",
       "      <th>3245</th>\n",
       "      <td>Central East Hyderabad</td>\n",
       "      <td>1200</td>\n",
       "    </tr>\n",
       "    <tr>\n",
       "      <th>3246</th>\n",
       "      <td>Secunderabad</td>\n",
       "      <td>1100</td>\n",
       "    </tr>\n",
       "    <tr>\n",
       "      <th>3247</th>\n",
       "      <td>Central West Hyderabad</td>\n",
       "      <td>1200</td>\n",
       "    </tr>\n",
       "    <tr>\n",
       "      <th>3248</th>\n",
       "      <td>Central West Hyderabad</td>\n",
       "      <td>1600</td>\n",
       "    </tr>\n",
       "    <tr>\n",
       "      <th>3249</th>\n",
       "      <td>Central East Hyderabad</td>\n",
       "      <td>1000</td>\n",
       "    </tr>\n",
       "    <tr>\n",
       "      <th>...</th>\n",
       "      <td>...</td>\n",
       "      <td>...</td>\n",
       "    </tr>\n",
       "    <tr>\n",
       "      <th>3829</th>\n",
       "      <td>South Hyderabad</td>\n",
       "      <td>1100</td>\n",
       "    </tr>\n",
       "    <tr>\n",
       "      <th>3830</th>\n",
       "      <td>West Hyderabad</td>\n",
       "      <td>1000</td>\n",
       "    </tr>\n",
       "    <tr>\n",
       "      <th>3831</th>\n",
       "      <td>Secunderabad</td>\n",
       "      <td>1000</td>\n",
       "    </tr>\n",
       "    <tr>\n",
       "      <th>3832</th>\n",
       "      <td>West Hyderabad</td>\n",
       "      <td>1000</td>\n",
       "    </tr>\n",
       "    <tr>\n",
       "      <th>3833</th>\n",
       "      <td>West Hyderabad</td>\n",
       "      <td>1200</td>\n",
       "    </tr>\n",
       "  </tbody>\n",
       "</table>\n",
       "<p>589 rows × 2 columns</p>\n",
       "</div>"
      ],
      "text/plain": [
       "                     Locality  Average_Bill\n",
       "3245   Central East Hyderabad          1200\n",
       "3246             Secunderabad          1100\n",
       "3247   Central West Hyderabad          1200\n",
       "3248   Central West Hyderabad          1600\n",
       "3249   Central East Hyderabad          1000\n",
       "...                       ...           ...\n",
       "3829          South Hyderabad          1100\n",
       "3830           West Hyderabad          1000\n",
       "3831             Secunderabad          1000\n",
       "3832           West Hyderabad          1000\n",
       "3833           West Hyderabad          1200\n",
       "\n",
       "[589 rows x 2 columns]"
      ]
     },
     "execution_count": 42,
     "metadata": {},
     "output_type": "execute_result"
    }
   ],
   "source": [
    "data2"
   ]
  },
  {
   "cell_type": "code",
   "execution_count": 47,
   "id": "8e18b91d",
   "metadata": {},
   "outputs": [
    {
     "data": {
      "image/png": "[encoded data removed]",
      "text/plain": [
       "<Figure size 864x360 with 1 Axes>"
      ]
     },
     "metadata": {
      "needs_background": "light"
     },
     "output_type": "display_data"
    }
   ],
   "source": [
    "plt.figure(figsize=(12,5))\n",
    "sns.boxplot(x='Locality',y='Average_Bill',data=data2)\n",
    "plt.show\n",
    "plt.xticks(rotation=75)\n",
    "plt.show()"
   ]
  },
  {
   "cell_type": "code",
   "execution_count": 66,
   "id": "6d07cf2a",
   "metadata": {},
   "outputs": [],
   "source": [
    "data3=data.nlargest(10,'Average_Bill')[['Name','Location','Average_Bill']]"
   ]
  },
  {
   "cell_type": "code",
   "execution_count": 67,
   "id": "c8f432ad",
   "metadata": {},
   "outputs": [
    {
     "data": {
      "text/html": [
       "<div>\n",
       "<style scoped>\n",
       "    .dataframe tbody tr th:only-of-type {\n",
       "        vertical-align: middle;\n",
       "    }\n",
       "\n",
       "    .dataframe tbody tr th {\n",
       "        vertical-align: top;\n",
       "    }\n",
       "\n",
       "    .dataframe thead th {\n",
       "        text-align: right;\n",
       "    }\n",
       "</style>\n",
       "<table border=\"1\" class=\"dataframe\">\n",
       "  <thead>\n",
       "    <tr style=\"text-align: right;\">\n",
       "      <th></th>\n",
       "      <th>Name</th>\n",
       "      <th>Location</th>\n",
       "      <th>Average_Bill</th>\n",
       "    </tr>\n",
       "  </thead>\n",
       "  <tbody>\n",
       "    <tr>\n",
       "      <th>1672</th>\n",
       "      <td>Masque</td>\n",
       "      <td>Laxmi Woolen Mills,Mahalaxmi, South Mumbai</td>\n",
       "      <td>8000</td>\n",
       "    </tr>\n",
       "    <tr>\n",
       "      <th>632</th>\n",
       "      <td>Kheer</td>\n",
       "      <td>Roseate House,Aerocity, South Delhi</td>\n",
       "      <td>6000</td>\n",
       "    </tr>\n",
       "    <tr>\n",
       "      <th>119</th>\n",
       "      <td>Sevilla</td>\n",
       "      <td>The Claridges,Aurangzeb Road, Central Delhi</td>\n",
       "      <td>5000</td>\n",
       "    </tr>\n",
       "    <tr>\n",
       "      <th>199</th>\n",
       "      <td>Le Cirque</td>\n",
       "      <td>The Leela Palace,Chanakyapuri, South Delhi</td>\n",
       "      <td>5000</td>\n",
       "    </tr>\n",
       "    <tr>\n",
       "      <th>202</th>\n",
       "      <td>The Qube</td>\n",
       "      <td>The Leela Palace,Chanakyapuri, South Delhi</td>\n",
       "      <td>5000</td>\n",
       "    </tr>\n",
       "    <tr>\n",
       "      <th>215</th>\n",
       "      <td>Megu</td>\n",
       "      <td>The Leela Palace,Chanakyapuri, South Delhi</td>\n",
       "      <td>5000</td>\n",
       "    </tr>\n",
       "    <tr>\n",
       "      <th>467</th>\n",
       "      <td>Del</td>\n",
       "      <td>Roseate House,Aerocity, South Delhi</td>\n",
       "      <td>5000</td>\n",
       "    </tr>\n",
       "    <tr>\n",
       "      <th>805</th>\n",
       "      <td>Chi Ni</td>\n",
       "      <td>The Roseate,Samalkha, South Delhi</td>\n",
       "      <td>5000</td>\n",
       "    </tr>\n",
       "    <tr>\n",
       "      <th>944</th>\n",
       "      <td>Seasonal Tastes</td>\n",
       "      <td>The Westin Hotel,Sector 29, Gurgaon</td>\n",
       "      <td>5000</td>\n",
       "    </tr>\n",
       "    <tr>\n",
       "      <th>1223</th>\n",
       "      <td>Masala Library by Jiggs Kalra</td>\n",
       "      <td>FIFC Building,Bandra Kurla Complex, Bandra</td>\n",
       "      <td>5000</td>\n",
       "    </tr>\n",
       "  </tbody>\n",
       "</table>\n",
       "</div>"
      ],
      "text/plain": [
       "                               Name  \\\n",
       "1672                         Masque   \n",
       "632                           Kheer   \n",
       "119                         Sevilla   \n",
       "199                       Le Cirque   \n",
       "202                        The Qube   \n",
       "215                            Megu   \n",
       "467                             Del   \n",
       "805                          Chi Ni   \n",
       "944                 Seasonal Tastes   \n",
       "1223  Masala Library by Jiggs Kalra   \n",
       "\n",
       "                                         Location  Average_Bill  \n",
       "1672   Laxmi Woolen Mills,Mahalaxmi, South Mumbai          8000  \n",
       "632           Roseate House,Aerocity, South Delhi          6000  \n",
       "119   The Claridges,Aurangzeb Road, Central Delhi          5000  \n",
       "199    The Leela Palace,Chanakyapuri, South Delhi          5000  \n",
       "202    The Leela Palace,Chanakyapuri, South Delhi          5000  \n",
       "215    The Leela Palace,Chanakyapuri, South Delhi          5000  \n",
       "467           Roseate House,Aerocity, South Delhi          5000  \n",
       "805             The Roseate,Samalkha, South Delhi          5000  \n",
       "944           The Westin Hotel,Sector 29, Gurgaon          5000  \n",
       "1223   FIFC Building,Bandra Kurla Complex, Bandra          5000  "
      ]
     },
     "execution_count": 67,
     "metadata": {},
     "output_type": "execute_result"
    }
   ],
   "source": [
    "data3"
   ]
  },
  {
   "cell_type": "code",
   "execution_count": 68,
   "id": "6ba0029e",
   "metadata": {},
   "outputs": [],
   "source": [
    "data3['substring'] = data3['Location'].str.split(',').str[2]"
   ]
  },
  {
   "cell_type": "code",
   "execution_count": 69,
   "id": "48af8895",
   "metadata": {},
   "outputs": [
    {
     "data": {
      "text/html": [
       "<div>\n",
       "<style scoped>\n",
       "    .dataframe tbody tr th:only-of-type {\n",
       "        vertical-align: middle;\n",
       "    }\n",
       "\n",
       "    .dataframe tbody tr th {\n",
       "        vertical-align: top;\n",
       "    }\n",
       "\n",
       "    .dataframe thead th {\n",
       "        text-align: right;\n",
       "    }\n",
       "</style>\n",
       "<table border=\"1\" class=\"dataframe\">\n",
       "  <thead>\n",
       "    <tr style=\"text-align: right;\">\n",
       "      <th></th>\n",
       "      <th>Name</th>\n",
       "      <th>Location</th>\n",
       "      <th>Average_Bill</th>\n",
       "      <th>substring</th>\n",
       "    </tr>\n",
       "  </thead>\n",
       "  <tbody>\n",
       "    <tr>\n",
       "      <th>1672</th>\n",
       "      <td>Masque</td>\n",
       "      <td>Laxmi Woolen Mills,Mahalaxmi, South Mumbai</td>\n",
       "      <td>8000</td>\n",
       "      <td>South Mumbai</td>\n",
       "    </tr>\n",
       "    <tr>\n",
       "      <th>632</th>\n",
       "      <td>Kheer</td>\n",
       "      <td>Roseate House,Aerocity, South Delhi</td>\n",
       "      <td>6000</td>\n",
       "      <td>South Delhi</td>\n",
       "    </tr>\n",
       "    <tr>\n",
       "      <th>119</th>\n",
       "      <td>Sevilla</td>\n",
       "      <td>The Claridges,Aurangzeb Road, Central Delhi</td>\n",
       "      <td>5000</td>\n",
       "      <td>Central Delhi</td>\n",
       "    </tr>\n",
       "    <tr>\n",
       "      <th>199</th>\n",
       "      <td>Le Cirque</td>\n",
       "      <td>The Leela Palace,Chanakyapuri, South Delhi</td>\n",
       "      <td>5000</td>\n",
       "      <td>South Delhi</td>\n",
       "    </tr>\n",
       "    <tr>\n",
       "      <th>202</th>\n",
       "      <td>The Qube</td>\n",
       "      <td>The Leela Palace,Chanakyapuri, South Delhi</td>\n",
       "      <td>5000</td>\n",
       "      <td>South Delhi</td>\n",
       "    </tr>\n",
       "    <tr>\n",
       "      <th>215</th>\n",
       "      <td>Megu</td>\n",
       "      <td>The Leela Palace,Chanakyapuri, South Delhi</td>\n",
       "      <td>5000</td>\n",
       "      <td>South Delhi</td>\n",
       "    </tr>\n",
       "    <tr>\n",
       "      <th>467</th>\n",
       "      <td>Del</td>\n",
       "      <td>Roseate House,Aerocity, South Delhi</td>\n",
       "      <td>5000</td>\n",
       "      <td>South Delhi</td>\n",
       "    </tr>\n",
       "    <tr>\n",
       "      <th>805</th>\n",
       "      <td>Chi Ni</td>\n",
       "      <td>The Roseate,Samalkha, South Delhi</td>\n",
       "      <td>5000</td>\n",
       "      <td>South Delhi</td>\n",
       "    </tr>\n",
       "    <tr>\n",
       "      <th>944</th>\n",
       "      <td>Seasonal Tastes</td>\n",
       "      <td>The Westin Hotel,Sector 29, Gurgaon</td>\n",
       "      <td>5000</td>\n",
       "      <td>Gurgaon</td>\n",
       "    </tr>\n",
       "    <tr>\n",
       "      <th>1223</th>\n",
       "      <td>Masala Library by Jiggs Kalra</td>\n",
       "      <td>FIFC Building,Bandra Kurla Complex, Bandra</td>\n",
       "      <td>5000</td>\n",
       "      <td>Bandra</td>\n",
       "    </tr>\n",
       "  </tbody>\n",
       "</table>\n",
       "</div>"
      ],
      "text/plain": [
       "                               Name  \\\n",
       "1672                         Masque   \n",
       "632                           Kheer   \n",
       "119                         Sevilla   \n",
       "199                       Le Cirque   \n",
       "202                        The Qube   \n",
       "215                            Megu   \n",
       "467                             Del   \n",
       "805                          Chi Ni   \n",
       "944                 Seasonal Tastes   \n",
       "1223  Masala Library by Jiggs Kalra   \n",
       "\n",
       "                                         Location  Average_Bill  \\\n",
       "1672   Laxmi Woolen Mills,Mahalaxmi, South Mumbai          8000   \n",
       "632           Roseate House,Aerocity, South Delhi          6000   \n",
       "119   The Claridges,Aurangzeb Road, Central Delhi          5000   \n",
       "199    The Leela Palace,Chanakyapuri, South Delhi          5000   \n",
       "202    The Leela Palace,Chanakyapuri, South Delhi          5000   \n",
       "215    The Leela Palace,Chanakyapuri, South Delhi          5000   \n",
       "467           Roseate House,Aerocity, South Delhi          5000   \n",
       "805             The Roseate,Samalkha, South Delhi          5000   \n",
       "944           The Westin Hotel,Sector 29, Gurgaon          5000   \n",
       "1223   FIFC Building,Bandra Kurla Complex, Bandra          5000   \n",
       "\n",
       "           substring  \n",
       "1672    South Mumbai  \n",
       "632      South Delhi  \n",
       "119    Central Delhi  \n",
       "199      South Delhi  \n",
       "202      South Delhi  \n",
       "215      South Delhi  \n",
       "467      South Delhi  \n",
       "805      South Delhi  \n",
       "944          Gurgaon  \n",
       "1223          Bandra  "
      ]
     },
     "execution_count": 69,
     "metadata": {},
     "output_type": "execute_result"
    }
   ],
   "source": [
    "data3"
   ]
  },
  {
   "cell_type": "code",
   "execution_count": 70,
   "id": "11a075a2",
   "metadata": {},
   "outputs": [],
   "source": [
    "data3['Full_Address']=data3['Name'] + ',' + data3['substring']"
   ]
  },
  {
   "cell_type": "code",
   "execution_count": 71,
   "id": "50dca49a",
   "metadata": {},
   "outputs": [
    {
     "data": {
      "text/html": [
       "<div>\n",
       "<style scoped>\n",
       "    .dataframe tbody tr th:only-of-type {\n",
       "        vertical-align: middle;\n",
       "    }\n",
       "\n",
       "    .dataframe tbody tr th {\n",
       "        vertical-align: top;\n",
       "    }\n",
       "\n",
       "    .dataframe thead th {\n",
       "        text-align: right;\n",
       "    }\n",
       "</style>\n",
       "<table border=\"1\" class=\"dataframe\">\n",
       "  <thead>\n",
       "    <tr style=\"text-align: right;\">\n",
       "      <th></th>\n",
       "      <th>Name</th>\n",
       "      <th>Location</th>\n",
       "      <th>Average_Bill</th>\n",
       "      <th>substring</th>\n",
       "      <th>Full_Address</th>\n",
       "    </tr>\n",
       "  </thead>\n",
       "  <tbody>\n",
       "    <tr>\n",
       "      <th>1672</th>\n",
       "      <td>Masque</td>\n",
       "      <td>Laxmi Woolen Mills,Mahalaxmi, South Mumbai</td>\n",
       "      <td>8000</td>\n",
       "      <td>South Mumbai</td>\n",
       "      <td>Masque, South Mumbai</td>\n",
       "    </tr>\n",
       "    <tr>\n",
       "      <th>632</th>\n",
       "      <td>Kheer</td>\n",
       "      <td>Roseate House,Aerocity, South Delhi</td>\n",
       "      <td>6000</td>\n",
       "      <td>South Delhi</td>\n",
       "      <td>Kheer, South Delhi</td>\n",
       "    </tr>\n",
       "    <tr>\n",
       "      <th>119</th>\n",
       "      <td>Sevilla</td>\n",
       "      <td>The Claridges,Aurangzeb Road, Central Delhi</td>\n",
       "      <td>5000</td>\n",
       "      <td>Central Delhi</td>\n",
       "      <td>Sevilla, Central Delhi</td>\n",
       "    </tr>\n",
       "    <tr>\n",
       "      <th>199</th>\n",
       "      <td>Le Cirque</td>\n",
       "      <td>The Leela Palace,Chanakyapuri, South Delhi</td>\n",
       "      <td>5000</td>\n",
       "      <td>South Delhi</td>\n",
       "      <td>Le Cirque, South Delhi</td>\n",
       "    </tr>\n",
       "    <tr>\n",
       "      <th>202</th>\n",
       "      <td>The Qube</td>\n",
       "      <td>The Leela Palace,Chanakyapuri, South Delhi</td>\n",
       "      <td>5000</td>\n",
       "      <td>South Delhi</td>\n",
       "      <td>The Qube, South Delhi</td>\n",
       "    </tr>\n",
       "    <tr>\n",
       "      <th>215</th>\n",
       "      <td>Megu</td>\n",
       "      <td>The Leela Palace,Chanakyapuri, South Delhi</td>\n",
       "      <td>5000</td>\n",
       "      <td>South Delhi</td>\n",
       "      <td>Megu, South Delhi</td>\n",
       "    </tr>\n",
       "    <tr>\n",
       "      <th>467</th>\n",
       "      <td>Del</td>\n",
       "      <td>Roseate House,Aerocity, South Delhi</td>\n",
       "      <td>5000</td>\n",
       "      <td>South Delhi</td>\n",
       "      <td>Del, South Delhi</td>\n",
       "    </tr>\n",
       "    <tr>\n",
       "      <th>805</th>\n",
       "      <td>Chi Ni</td>\n",
       "      <td>The Roseate,Samalkha, South Delhi</td>\n",
       "      <td>5000</td>\n",
       "      <td>South Delhi</td>\n",
       "      <td>Chi Ni, South Delhi</td>\n",
       "    </tr>\n",
       "    <tr>\n",
       "      <th>944</th>\n",
       "      <td>Seasonal Tastes</td>\n",
       "      <td>The Westin Hotel,Sector 29, Gurgaon</td>\n",
       "      <td>5000</td>\n",
       "      <td>Gurgaon</td>\n",
       "      <td>Seasonal Tastes, Gurgaon</td>\n",
       "    </tr>\n",
       "    <tr>\n",
       "      <th>1223</th>\n",
       "      <td>Masala Library by Jiggs Kalra</td>\n",
       "      <td>FIFC Building,Bandra Kurla Complex, Bandra</td>\n",
       "      <td>5000</td>\n",
       "      <td>Bandra</td>\n",
       "      <td>Masala Library by Jiggs Kalra, Bandra</td>\n",
       "    </tr>\n",
       "  </tbody>\n",
       "</table>\n",
       "</div>"
      ],
      "text/plain": [
       "                               Name  \\\n",
       "1672                         Masque   \n",
       "632                           Kheer   \n",
       "119                         Sevilla   \n",
       "199                       Le Cirque   \n",
       "202                        The Qube   \n",
       "215                            Megu   \n",
       "467                             Del   \n",
       "805                          Chi Ni   \n",
       "944                 Seasonal Tastes   \n",
       "1223  Masala Library by Jiggs Kalra   \n",
       "\n",
       "                                         Location  Average_Bill  \\\n",
       "1672   Laxmi Woolen Mills,Mahalaxmi, South Mumbai          8000   \n",
       "632           Roseate House,Aerocity, South Delhi          6000   \n",
       "119   The Claridges,Aurangzeb Road, Central Delhi          5000   \n",
       "199    The Leela Palace,Chanakyapuri, South Delhi          5000   \n",
       "202    The Leela Palace,Chanakyapuri, South Delhi          5000   \n",
       "215    The Leela Palace,Chanakyapuri, South Delhi          5000   \n",
       "467           Roseate House,Aerocity, South Delhi          5000   \n",
       "805             The Roseate,Samalkha, South Delhi          5000   \n",
       "944           The Westin Hotel,Sector 29, Gurgaon          5000   \n",
       "1223   FIFC Building,Bandra Kurla Complex, Bandra          5000   \n",
       "\n",
       "           substring                           Full_Address  \n",
       "1672    South Mumbai                   Masque, South Mumbai  \n",
       "632      South Delhi                     Kheer, South Delhi  \n",
       "119    Central Delhi                 Sevilla, Central Delhi  \n",
       "199      South Delhi                 Le Cirque, South Delhi  \n",
       "202      South Delhi                  The Qube, South Delhi  \n",
       "215      South Delhi                      Megu, South Delhi  \n",
       "467      South Delhi                       Del, South Delhi  \n",
       "805      South Delhi                    Chi Ni, South Delhi  \n",
       "944          Gurgaon               Seasonal Tastes, Gurgaon  \n",
       "1223          Bandra  Masala Library by Jiggs Kalra, Bandra  "
      ]
     },
     "execution_count": 71,
     "metadata": {},
     "output_type": "execute_result"
    }
   ],
   "source": [
    "data3"
   ]
  },
  {
   "cell_type": "code",
   "execution_count": 83,
   "id": "6649df3d",
   "metadata": {},
   "outputs": [
    {
     "data": {
      "text/html": [
       "<div>\n",
       "<style scoped>\n",
       "    .dataframe tbody tr th:only-of-type {\n",
       "        vertical-align: middle;\n",
       "    }\n",
       "\n",
       "    .dataframe tbody tr th {\n",
       "        vertical-align: top;\n",
       "    }\n",
       "\n",
       "    .dataframe thead th {\n",
       "        text-align: right;\n",
       "    }\n",
       "</style>\n",
       "<table border=\"1\" class=\"dataframe\">\n",
       "  <thead>\n",
       "    <tr style=\"text-align: right;\">\n",
       "      <th></th>\n",
       "      <th>Average_Bill</th>\n",
       "    </tr>\n",
       "    <tr>\n",
       "      <th>Full_Address</th>\n",
       "      <th></th>\n",
       "    </tr>\n",
       "  </thead>\n",
       "  <tbody>\n",
       "    <tr>\n",
       "      <th>Masque, South Mumbai</th>\n",
       "      <td>8000</td>\n",
       "    </tr>\n",
       "    <tr>\n",
       "      <th>Kheer, South Delhi</th>\n",
       "      <td>6000</td>\n",
       "    </tr>\n",
       "    <tr>\n",
       "      <th>Sevilla, Central Delhi</th>\n",
       "      <td>5000</td>\n",
       "    </tr>\n",
       "    <tr>\n",
       "      <th>Le Cirque, South Delhi</th>\n",
       "      <td>5000</td>\n",
       "    </tr>\n",
       "    <tr>\n",
       "      <th>The Qube, South Delhi</th>\n",
       "      <td>5000</td>\n",
       "    </tr>\n",
       "    <tr>\n",
       "      <th>Megu, South Delhi</th>\n",
       "      <td>5000</td>\n",
       "    </tr>\n",
       "    <tr>\n",
       "      <th>Del, South Delhi</th>\n",
       "      <td>5000</td>\n",
       "    </tr>\n",
       "    <tr>\n",
       "      <th>Chi Ni, South Delhi</th>\n",
       "      <td>5000</td>\n",
       "    </tr>\n",
       "    <tr>\n",
       "      <th>Seasonal Tastes, Gurgaon</th>\n",
       "      <td>5000</td>\n",
       "    </tr>\n",
       "    <tr>\n",
       "      <th>Masala Library by Jiggs Kalra, Bandra</th>\n",
       "      <td>5000</td>\n",
       "    </tr>\n",
       "  </tbody>\n",
       "</table>\n",
       "</div>"
      ],
      "text/plain": [
       "                                       Average_Bill\n",
       "Full_Address                                       \n",
       "Masque, South Mumbai                           8000\n",
       "Kheer, South Delhi                             6000\n",
       "Sevilla, Central Delhi                         5000\n",
       "Le Cirque, South Delhi                         5000\n",
       "The Qube, South Delhi                          5000\n",
       "Megu, South Delhi                              5000\n",
       "Del, South Delhi                               5000\n",
       "Chi Ni, South Delhi                            5000\n",
       "Seasonal Tastes, Gurgaon                       5000\n",
       "Masala Library by Jiggs Kalra, Bandra          5000"
      ]
     },
     "execution_count": 83,
     "metadata": {},
     "output_type": "execute_result"
    }
   ],
   "source": [
    "data3.drop(['Name','substring','Location'],axis=1).set_index('Full_Address',inplace=False)"
   ]
  },
  {
   "cell_type": "code",
   "execution_count": 98,
   "id": "0ba7a1ed",
   "metadata": {},
   "outputs": [
    {
     "data": {
      "image/png": "[encoded data removed]",
      "text/plain": [
       "<Figure size 864x360 with 1 Axes>"
      ]
     },
     "metadata": {
      "needs_background": "light"
     },
     "output_type": "display_data"
    }
   ],
   "source": [
    "plt.figure(figsize=(12,5))\n",
    "sns.barplot(x='Full_Address',y='Average_Bill',data=data3)\n",
    "plt.xticks(rotation=75)\n",
    "plt.show()"
   ]
  },
  {
   "cell_type": "code",
   "execution_count": 90,
   "id": "4780ac79",
   "metadata": {},
   "outputs": [
    {
     "data": {
      "text/html": [
       "<div>\n",
       "<style scoped>\n",
       "    .dataframe tbody tr th:only-of-type {\n",
       "        vertical-align: middle;\n",
       "    }\n",
       "\n",
       "    .dataframe tbody tr th {\n",
       "        vertical-align: top;\n",
       "    }\n",
       "\n",
       "    .dataframe thead th {\n",
       "        text-align: right;\n",
       "    }\n",
       "</style>\n",
       "<table border=\"1\" class=\"dataframe\">\n",
       "  <thead>\n",
       "    <tr style=\"text-align: right;\">\n",
       "      <th></th>\n",
       "      <th>Rating</th>\n",
       "      <th>Votes</th>\n",
       "      <th>Average_Bill</th>\n",
       "    </tr>\n",
       "  </thead>\n",
       "  <tbody>\n",
       "    <tr>\n",
       "      <th>Rating</th>\n",
       "      <td>1.000000</td>\n",
       "      <td>0.094213</td>\n",
       "      <td>0.149745</td>\n",
       "    </tr>\n",
       "    <tr>\n",
       "      <th>Votes</th>\n",
       "      <td>0.094213</td>\n",
       "      <td>1.000000</td>\n",
       "      <td>0.311000</td>\n",
       "    </tr>\n",
       "    <tr>\n",
       "      <th>Average_Bill</th>\n",
       "      <td>0.149745</td>\n",
       "      <td>0.311000</td>\n",
       "      <td>1.000000</td>\n",
       "    </tr>\n",
       "  </tbody>\n",
       "</table>\n",
       "</div>"
      ],
      "text/plain": [
       "                Rating     Votes  Average_Bill\n",
       "Rating        1.000000  0.094213      0.149745\n",
       "Votes         0.094213  1.000000      0.311000\n",
       "Average_Bill  0.149745  0.311000      1.000000"
      ]
     },
     "execution_count": 90,
     "metadata": {},
     "output_type": "execute_result"
    }
   ],
   "source": [
    "data.corr()"
   ]
  },
  {
   "cell_type": "code",
   "execution_count": 114,
   "id": "8e6a378d",
   "metadata": {},
   "outputs": [],
   "source": [
    "data\n",
    "data4=data[data['City']=='Mumbai'][['Locality','Rating','Average_Bill']]"
   ]
  },
  {
   "cell_type": "code",
   "execution_count": 115,
   "id": "7bf3c56b",
   "metadata": {},
   "outputs": [
    {
     "data": {
      "text/html": [
       "<div>\n",
       "<style scoped>\n",
       "    .dataframe tbody tr th:only-of-type {\n",
       "        vertical-align: middle;\n",
       "    }\n",
       "\n",
       "    .dataframe tbody tr th {\n",
       "        vertical-align: top;\n",
       "    }\n",
       "\n",
       "    .dataframe thead th {\n",
       "        text-align: right;\n",
       "    }\n",
       "</style>\n",
       "<table border=\"1\" class=\"dataframe\">\n",
       "  <thead>\n",
       "    <tr style=\"text-align: right;\">\n",
       "      <th></th>\n",
       "      <th>Rating</th>\n",
       "      <th>Average_Bill</th>\n",
       "    </tr>\n",
       "    <tr>\n",
       "      <th>Locality</th>\n",
       "      <th></th>\n",
       "      <th></th>\n",
       "    </tr>\n",
       "  </thead>\n",
       "  <tbody>\n",
       "    <tr>\n",
       "      <th>Central Suburbs</th>\n",
       "      <td>4.3</td>\n",
       "      <td>2000</td>\n",
       "    </tr>\n",
       "    <tr>\n",
       "      <th>Andheri East</th>\n",
       "      <td>4.5</td>\n",
       "      <td>2000</td>\n",
       "    </tr>\n",
       "    <tr>\n",
       "      <th>Central Suburbs</th>\n",
       "      <td>4.7</td>\n",
       "      <td>1100</td>\n",
       "    </tr>\n",
       "    <tr>\n",
       "      <th>Powai</th>\n",
       "      <td>5.0</td>\n",
       "      <td>900</td>\n",
       "    </tr>\n",
       "    <tr>\n",
       "      <th>Powai</th>\n",
       "      <td>4.5</td>\n",
       "      <td>1400</td>\n",
       "    </tr>\n",
       "    <tr>\n",
       "      <th>...</th>\n",
       "      <td>...</td>\n",
       "      <td>...</td>\n",
       "    </tr>\n",
       "    <tr>\n",
       "      <th>North Western</th>\n",
       "      <td>4.0</td>\n",
       "      <td>1200</td>\n",
       "    </tr>\n",
       "    <tr>\n",
       "      <th>North Western</th>\n",
       "      <td>4.1</td>\n",
       "      <td>1500</td>\n",
       "    </tr>\n",
       "    <tr>\n",
       "      <th>24 Parganas South</th>\n",
       "      <td>3.1</td>\n",
       "      <td>400</td>\n",
       "    </tr>\n",
       "    <tr>\n",
       "      <th>24 Parganas South</th>\n",
       "      <td>4.8</td>\n",
       "      <td>900</td>\n",
       "    </tr>\n",
       "    <tr>\n",
       "      <th>24 Parganas South</th>\n",
       "      <td>3.0</td>\n",
       "      <td>400</td>\n",
       "    </tr>\n",
       "  </tbody>\n",
       "</table>\n",
       "<p>727 rows × 2 columns</p>\n",
       "</div>"
      ],
      "text/plain": [
       "                    Rating  Average_Bill\n",
       "Locality                                \n",
       " Central Suburbs       4.3          2000\n",
       " Andheri East          4.5          2000\n",
       " Central Suburbs       4.7          1100\n",
       " Powai                 5.0           900\n",
       " Powai                 4.5          1400\n",
       "...                    ...           ...\n",
       " North Western         4.0          1200\n",
       " North Western         4.1          1500\n",
       " 24 Parganas South     3.1           400\n",
       " 24 Parganas South     4.8           900\n",
       " 24 Parganas South     3.0           400\n",
       "\n",
       "[727 rows x 2 columns]"
      ]
     },
     "execution_count": 115,
     "metadata": {},
     "output_type": "execute_result"
    }
   ],
   "source": [
    "data4.set_index('Locality')"
   ]
  },
  {
   "cell_type": "code",
   "execution_count": 122,
   "id": "ea997c5a",
   "metadata": {},
   "outputs": [
    {
     "data": {
      "text/plain": [
       "Text(0.5, 1.1, 'Relationship between Average_Price and Ratings in Mumbai')"
      ]
     },
     "execution_count": 122,
     "metadata": {},
     "output_type": "execute_result"
    },
    {
     "data": {
      "image/png": "[encoded data removed]",
      "text/plain": [
       "<Figure size 432x432 with 3 Axes>"
      ]
     },
     "metadata": {
      "needs_background": "light"
     },
     "output_type": "display_data"
    }
   ],
   "source": [
    "sns.jointplot(x='Average_Bill',y='Rating',data=data4,kind='reg')\n",
    "plt.title('Relationship between Average_Price and Ratings in Mumbai',y=1.1,fontsize=14)"
   ]
  },
  {
   "cell_type": "code",
   "execution_count": 151,
   "id": "0b44262e",
   "metadata": {},
   "outputs": [],
   "source": [
    "data5=data[(data['Location']=='Connaught Place, Central Delhi') & (data['Votes']>1500)].sort_values(by='Average_Bill',ascending=True)"
   ]
  },
  {
   "cell_type": "code",
   "execution_count": 153,
   "id": "54b190c0",
   "metadata": {},
   "outputs": [
    {
     "data": {
      "image/png": "[encoded data removed]",
      "text/plain": [
       "<Figure size 864x360 with 1 Axes>"
      ]
     },
     "metadata": {
      "needs_background": "light"
     },
     "output_type": "display_data"
    }
   ],
   "source": [
    "plt.figure(figsize=(12,5))\n",
    "sns.lineplot(x='Name',y='Votes',data=data5,label='Vote_Count')\n",
    "sns.lineplot(x='Name',y='Average_Bill', data=data5, label='Average_Bill',color='red')\n",
    "plt.xticks(rotation=75)\n",
    "plt.show()\n"
   ]
  }
 ],
 "metadata": {
  "kernelspec": {
   "display_name": "Python 3.9.7 ('base')",
   "language": "python",
   "name": "python3"
  },
  "language_info": {
   "codemirror_mode": {
    "name": "ipython",
    "version": 3
   },
   "file_extension": ".py",
   "mimetype": "text/x-python",
   "name": "python",
   "nbconvert_exporter": "python",
   "pygments_lexer": "ipython3",
   "version": "3.9.7"
  },
  "vscode": {
   "interpreter": {
    "hash": "530219143d35336307c4e71c62e86952d4af021e0d8cd486539f9a68941d86ce"
   }
  }
 },
 "nbformat": 4,
 "nbformat_minor": 5
}
